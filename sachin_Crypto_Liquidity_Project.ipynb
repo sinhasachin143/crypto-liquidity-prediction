{
  "nbformat": 4,
  "nbformat_minor": 0,
  "metadata": {
    "colab": {
      "provenance": []
    },
    "kernelspec": {
      "name": "python3",
      "display_name": "Python 3"
    },
    "language_info": {
      "name": "python"
    }
  },
  "cells": [
    {
      "cell_type": "code",
      "source": [
        "# 📌 Step 1: Upload Dataset\n",
        "from google.colab import files\n",
        "uploaded = files.upload()\n"
      ],
      "metadata": {
        "colab": {
          "base_uri": "https://localhost:8080/",
          "height": 110
        },
        "id": "JBcsbuij64nm",
        "outputId": "b11263fa-3af6-48ec-eae3-e5e82ccc293c"
      },
      "execution_count": 3,
      "outputs": [
        {
          "output_type": "display_data",
          "data": {
            "text/plain": [
              "<IPython.core.display.HTML object>"
            ],
            "text/html": [
              "\n",
              "     <input type=\"file\" id=\"files-0ec2bb47-7b5f-43d8-ba9a-00191c3ec6fb\" name=\"files[]\" multiple disabled\n",
              "        style=\"border:none\" />\n",
              "     <output id=\"result-0ec2bb47-7b5f-43d8-ba9a-00191c3ec6fb\">\n",
              "      Upload widget is only available when the cell has been executed in the\n",
              "      current browser session. Please rerun this cell to enable.\n",
              "      </output>\n",
              "      <script>// Copyright 2017 Google LLC\n",
              "//\n",
              "// Licensed under the Apache License, Version 2.0 (the \"License\");\n",
              "// you may not use this file except in compliance with the License.\n",
              "// You may obtain a copy of the License at\n",
              "//\n",
              "//      http://www.apache.org/licenses/LICENSE-2.0\n",
              "//\n",
              "// Unless required by applicable law or agreed to in writing, software\n",
              "// distributed under the License is distributed on an \"AS IS\" BASIS,\n",
              "// WITHOUT WARRANTIES OR CONDITIONS OF ANY KIND, either express or implied.\n",
              "// See the License for the specific language governing permissions and\n",
              "// limitations under the License.\n",
              "\n",
              "/**\n",
              " * @fileoverview Helpers for google.colab Python module.\n",
              " */\n",
              "(function(scope) {\n",
              "function span(text, styleAttributes = {}) {\n",
              "  const element = document.createElement('span');\n",
              "  element.textContent = text;\n",
              "  for (const key of Object.keys(styleAttributes)) {\n",
              "    element.style[key] = styleAttributes[key];\n",
              "  }\n",
              "  return element;\n",
              "}\n",
              "\n",
              "// Max number of bytes which will be uploaded at a time.\n",
              "const MAX_PAYLOAD_SIZE = 100 * 1024;\n",
              "\n",
              "function _uploadFiles(inputId, outputId) {\n",
              "  const steps = uploadFilesStep(inputId, outputId);\n",
              "  const outputElement = document.getElementById(outputId);\n",
              "  // Cache steps on the outputElement to make it available for the next call\n",
              "  // to uploadFilesContinue from Python.\n",
              "  outputElement.steps = steps;\n",
              "\n",
              "  return _uploadFilesContinue(outputId);\n",
              "}\n",
              "\n",
              "// This is roughly an async generator (not supported in the browser yet),\n",
              "// where there are multiple asynchronous steps and the Python side is going\n",
              "// to poll for completion of each step.\n",
              "// This uses a Promise to block the python side on completion of each step,\n",
              "// then passes the result of the previous step as the input to the next step.\n",
              "function _uploadFilesContinue(outputId) {\n",
              "  const outputElement = document.getElementById(outputId);\n",
              "  const steps = outputElement.steps;\n",
              "\n",
              "  const next = steps.next(outputElement.lastPromiseValue);\n",
              "  return Promise.resolve(next.value.promise).then((value) => {\n",
              "    // Cache the last promise value to make it available to the next\n",
              "    // step of the generator.\n",
              "    outputElement.lastPromiseValue = value;\n",
              "    return next.value.response;\n",
              "  });\n",
              "}\n",
              "\n",
              "/**\n",
              " * Generator function which is called between each async step of the upload\n",
              " * process.\n",
              " * @param {string} inputId Element ID of the input file picker element.\n",
              " * @param {string} outputId Element ID of the output display.\n",
              " * @return {!Iterable<!Object>} Iterable of next steps.\n",
              " */\n",
              "function* uploadFilesStep(inputId, outputId) {\n",
              "  const inputElement = document.getElementById(inputId);\n",
              "  inputElement.disabled = false;\n",
              "\n",
              "  const outputElement = document.getElementById(outputId);\n",
              "  outputElement.innerHTML = '';\n",
              "\n",
              "  const pickedPromise = new Promise((resolve) => {\n",
              "    inputElement.addEventListener('change', (e) => {\n",
              "      resolve(e.target.files);\n",
              "    });\n",
              "  });\n",
              "\n",
              "  const cancel = document.createElement('button');\n",
              "  inputElement.parentElement.appendChild(cancel);\n",
              "  cancel.textContent = 'Cancel upload';\n",
              "  const cancelPromise = new Promise((resolve) => {\n",
              "    cancel.onclick = () => {\n",
              "      resolve(null);\n",
              "    };\n",
              "  });\n",
              "\n",
              "  // Wait for the user to pick the files.\n",
              "  const files = yield {\n",
              "    promise: Promise.race([pickedPromise, cancelPromise]),\n",
              "    response: {\n",
              "      action: 'starting',\n",
              "    }\n",
              "  };\n",
              "\n",
              "  cancel.remove();\n",
              "\n",
              "  // Disable the input element since further picks are not allowed.\n",
              "  inputElement.disabled = true;\n",
              "\n",
              "  if (!files) {\n",
              "    return {\n",
              "      response: {\n",
              "        action: 'complete',\n",
              "      }\n",
              "    };\n",
              "  }\n",
              "\n",
              "  for (const file of files) {\n",
              "    const li = document.createElement('li');\n",
              "    li.append(span(file.name, {fontWeight: 'bold'}));\n",
              "    li.append(span(\n",
              "        `(${file.type || 'n/a'}) - ${file.size} bytes, ` +\n",
              "        `last modified: ${\n",
              "            file.lastModifiedDate ? file.lastModifiedDate.toLocaleDateString() :\n",
              "                                    'n/a'} - `));\n",
              "    const percent = span('0% done');\n",
              "    li.appendChild(percent);\n",
              "\n",
              "    outputElement.appendChild(li);\n",
              "\n",
              "    const fileDataPromise = new Promise((resolve) => {\n",
              "      const reader = new FileReader();\n",
              "      reader.onload = (e) => {\n",
              "        resolve(e.target.result);\n",
              "      };\n",
              "      reader.readAsArrayBuffer(file);\n",
              "    });\n",
              "    // Wait for the data to be ready.\n",
              "    let fileData = yield {\n",
              "      promise: fileDataPromise,\n",
              "      response: {\n",
              "        action: 'continue',\n",
              "      }\n",
              "    };\n",
              "\n",
              "    // Use a chunked sending to avoid message size limits. See b/62115660.\n",
              "    let position = 0;\n",
              "    do {\n",
              "      const length = Math.min(fileData.byteLength - position, MAX_PAYLOAD_SIZE);\n",
              "      const chunk = new Uint8Array(fileData, position, length);\n",
              "      position += length;\n",
              "\n",
              "      const base64 = btoa(String.fromCharCode.apply(null, chunk));\n",
              "      yield {\n",
              "        response: {\n",
              "          action: 'append',\n",
              "          file: file.name,\n",
              "          data: base64,\n",
              "        },\n",
              "      };\n",
              "\n",
              "      let percentDone = fileData.byteLength === 0 ?\n",
              "          100 :\n",
              "          Math.round((position / fileData.byteLength) * 100);\n",
              "      percent.textContent = `${percentDone}% done`;\n",
              "\n",
              "    } while (position < fileData.byteLength);\n",
              "  }\n",
              "\n",
              "  // All done.\n",
              "  yield {\n",
              "    response: {\n",
              "      action: 'complete',\n",
              "    }\n",
              "  };\n",
              "}\n",
              "\n",
              "scope.google = scope.google || {};\n",
              "scope.google.colab = scope.google.colab || {};\n",
              "scope.google.colab._files = {\n",
              "  _uploadFiles,\n",
              "  _uploadFilesContinue,\n",
              "};\n",
              "})(self);\n",
              "</script> "
            ]
          },
          "metadata": {}
        },
        {
          "output_type": "stream",
          "name": "stdout",
          "text": [
            "Saving coin_gecko_2022-03-17.csv to coin_gecko_2022-03-17 (1).csv\n",
            "Saving coin_gecko_2022-03-16.csv to coin_gecko_2022-03-16 (1).csv\n"
          ]
        }
      ]
    },
    {
      "cell_type": "code",
      "source": [
        "# 📌 Step 2: Load the CSV File\n",
        "import pandas as pd\n"
      ],
      "metadata": {
        "id": "R2M3BJTE7t2m"
      },
      "execution_count": 7,
      "outputs": []
    },
    {
      "cell_type": "code",
      "source": [
        "# Replace 'your_dataset.csv' with the uploaded file name\n",
        "filename = next(iter(uploaded))  # Automatically picks the uploaded file\n",
        "df = pd.read_csv(filename)\n"
      ],
      "metadata": {
        "id": "Pu-1kUWR7-sF"
      },
      "execution_count": 8,
      "outputs": []
    },
    {
      "cell_type": "code",
      "source": [
        "# 📌 Step 3: Quick Overview of Dataset\n",
        "print(\"Shape of dataset:\", df.shape)\n",
        "print(\"\\nColumn names:\", df.columns.tolist())\n",
        "print(\"\\nMissing values per column:\\n\", df.isnull().sum())\n",
        "print(\"\\nData types:\\n\", df.dtypes)\n",
        "df.head()"
      ],
      "metadata": {
        "colab": {
          "base_uri": "https://localhost:8080/",
          "height": 684
        },
        "id": "LwIbLz_L8BlH",
        "outputId": "bf661462-5940-494e-e05b-59a2c5612976"
      },
      "execution_count": 9,
      "outputs": [
        {
          "output_type": "stream",
          "name": "stdout",
          "text": [
            "Shape of dataset: (500, 9)\n",
            "\n",
            "Column names: ['coin', 'symbol', 'price', '1h', '24h', '7d', '24h_volume', 'mkt_cap', 'date']\n",
            "\n",
            "Missing values per column:\n",
            " coin          0\n",
            "symbol        0\n",
            "price         0\n",
            "1h            4\n",
            "24h           4\n",
            "7d            5\n",
            "24h_volume    4\n",
            "mkt_cap       0\n",
            "date          0\n",
            "dtype: int64\n",
            "\n",
            "Data types:\n",
            " coin           object\n",
            "symbol         object\n",
            "price         float64\n",
            "1h            float64\n",
            "24h           float64\n",
            "7d            float64\n",
            "24h_volume    float64\n",
            "mkt_cap       float64\n",
            "date           object\n",
            "dtype: object\n"
          ]
        },
        {
          "output_type": "execute_result",
          "data": {
            "text/plain": [
              "       coin symbol         price     1h    24h     7d    24h_volume  \\\n",
              "0   Bitcoin    BTC  40851.380000  0.001  0.000 -0.027  2.047612e+10   \n",
              "1  Ethereum    ETH   2824.420000  0.004  0.029  0.034  1.364041e+10   \n",
              "2    Tether   USDT      1.000000 -0.000  0.000  0.000  4.413140e+10   \n",
              "3       BNB    BNB    389.610000  0.002  0.016 -0.010  1.425354e+09   \n",
              "4  USD Coin   USDC      0.999739 -0.001  0.000 -0.000  3.569816e+09   \n",
              "\n",
              "        mkt_cap        date  \n",
              "0  7.760774e+11  2022-03-17  \n",
              "1  3.390772e+11  2022-03-17  \n",
              "2  8.020588e+10  2022-03-17  \n",
              "3  6.556116e+10  2022-03-17  \n",
              "4  5.259607e+10  2022-03-17  "
            ],
            "text/html": [
              "\n",
              "  <div id=\"df-cb64b9a5-b861-425b-b35d-57aaa10a8de5\" class=\"colab-df-container\">\n",
              "    <div>\n",
              "<style scoped>\n",
              "    .dataframe tbody tr th:only-of-type {\n",
              "        vertical-align: middle;\n",
              "    }\n",
              "\n",
              "    .dataframe tbody tr th {\n",
              "        vertical-align: top;\n",
              "    }\n",
              "\n",
              "    .dataframe thead th {\n",
              "        text-align: right;\n",
              "    }\n",
              "</style>\n",
              "<table border=\"1\" class=\"dataframe\">\n",
              "  <thead>\n",
              "    <tr style=\"text-align: right;\">\n",
              "      <th></th>\n",
              "      <th>coin</th>\n",
              "      <th>symbol</th>\n",
              "      <th>price</th>\n",
              "      <th>1h</th>\n",
              "      <th>24h</th>\n",
              "      <th>7d</th>\n",
              "      <th>24h_volume</th>\n",
              "      <th>mkt_cap</th>\n",
              "      <th>date</th>\n",
              "    </tr>\n",
              "  </thead>\n",
              "  <tbody>\n",
              "    <tr>\n",
              "      <th>0</th>\n",
              "      <td>Bitcoin</td>\n",
              "      <td>BTC</td>\n",
              "      <td>40851.380000</td>\n",
              "      <td>0.001</td>\n",
              "      <td>0.000</td>\n",
              "      <td>-0.027</td>\n",
              "      <td>2.047612e+10</td>\n",
              "      <td>7.760774e+11</td>\n",
              "      <td>2022-03-17</td>\n",
              "    </tr>\n",
              "    <tr>\n",
              "      <th>1</th>\n",
              "      <td>Ethereum</td>\n",
              "      <td>ETH</td>\n",
              "      <td>2824.420000</td>\n",
              "      <td>0.004</td>\n",
              "      <td>0.029</td>\n",
              "      <td>0.034</td>\n",
              "      <td>1.364041e+10</td>\n",
              "      <td>3.390772e+11</td>\n",
              "      <td>2022-03-17</td>\n",
              "    </tr>\n",
              "    <tr>\n",
              "      <th>2</th>\n",
              "      <td>Tether</td>\n",
              "      <td>USDT</td>\n",
              "      <td>1.000000</td>\n",
              "      <td>-0.000</td>\n",
              "      <td>0.000</td>\n",
              "      <td>0.000</td>\n",
              "      <td>4.413140e+10</td>\n",
              "      <td>8.020588e+10</td>\n",
              "      <td>2022-03-17</td>\n",
              "    </tr>\n",
              "    <tr>\n",
              "      <th>3</th>\n",
              "      <td>BNB</td>\n",
              "      <td>BNB</td>\n",
              "      <td>389.610000</td>\n",
              "      <td>0.002</td>\n",
              "      <td>0.016</td>\n",
              "      <td>-0.010</td>\n",
              "      <td>1.425354e+09</td>\n",
              "      <td>6.556116e+10</td>\n",
              "      <td>2022-03-17</td>\n",
              "    </tr>\n",
              "    <tr>\n",
              "      <th>4</th>\n",
              "      <td>USD Coin</td>\n",
              "      <td>USDC</td>\n",
              "      <td>0.999739</td>\n",
              "      <td>-0.001</td>\n",
              "      <td>0.000</td>\n",
              "      <td>-0.000</td>\n",
              "      <td>3.569816e+09</td>\n",
              "      <td>5.259607e+10</td>\n",
              "      <td>2022-03-17</td>\n",
              "    </tr>\n",
              "  </tbody>\n",
              "</table>\n",
              "</div>\n",
              "    <div class=\"colab-df-buttons\">\n",
              "\n",
              "  <div class=\"colab-df-container\">\n",
              "    <button class=\"colab-df-convert\" onclick=\"convertToInteractive('df-cb64b9a5-b861-425b-b35d-57aaa10a8de5')\"\n",
              "            title=\"Convert this dataframe to an interactive table.\"\n",
              "            style=\"display:none;\">\n",
              "\n",
              "  <svg xmlns=\"http://www.w3.org/2000/svg\" height=\"24px\" viewBox=\"0 -960 960 960\">\n",
              "    <path d=\"M120-120v-720h720v720H120Zm60-500h600v-160H180v160Zm220 220h160v-160H400v160Zm0 220h160v-160H400v160ZM180-400h160v-160H180v160Zm440 0h160v-160H620v160ZM180-180h160v-160H180v160Zm440 0h160v-160H620v160Z\"/>\n",
              "  </svg>\n",
              "    </button>\n",
              "\n",
              "  <style>\n",
              "    .colab-df-container {\n",
              "      display:flex;\n",
              "      gap: 12px;\n",
              "    }\n",
              "\n",
              "    .colab-df-convert {\n",
              "      background-color: #E8F0FE;\n",
              "      border: none;\n",
              "      border-radius: 50%;\n",
              "      cursor: pointer;\n",
              "      display: none;\n",
              "      fill: #1967D2;\n",
              "      height: 32px;\n",
              "      padding: 0 0 0 0;\n",
              "      width: 32px;\n",
              "    }\n",
              "\n",
              "    .colab-df-convert:hover {\n",
              "      background-color: #E2EBFA;\n",
              "      box-shadow: 0px 1px 2px rgba(60, 64, 67, 0.3), 0px 1px 3px 1px rgba(60, 64, 67, 0.15);\n",
              "      fill: #174EA6;\n",
              "    }\n",
              "\n",
              "    .colab-df-buttons div {\n",
              "      margin-bottom: 4px;\n",
              "    }\n",
              "\n",
              "    [theme=dark] .colab-df-convert {\n",
              "      background-color: #3B4455;\n",
              "      fill: #D2E3FC;\n",
              "    }\n",
              "\n",
              "    [theme=dark] .colab-df-convert:hover {\n",
              "      background-color: #434B5C;\n",
              "      box-shadow: 0px 1px 3px 1px rgba(0, 0, 0, 0.15);\n",
              "      filter: drop-shadow(0px 1px 2px rgba(0, 0, 0, 0.3));\n",
              "      fill: #FFFFFF;\n",
              "    }\n",
              "  </style>\n",
              "\n",
              "    <script>\n",
              "      const buttonEl =\n",
              "        document.querySelector('#df-cb64b9a5-b861-425b-b35d-57aaa10a8de5 button.colab-df-convert');\n",
              "      buttonEl.style.display =\n",
              "        google.colab.kernel.accessAllowed ? 'block' : 'none';\n",
              "\n",
              "      async function convertToInteractive(key) {\n",
              "        const element = document.querySelector('#df-cb64b9a5-b861-425b-b35d-57aaa10a8de5');\n",
              "        const dataTable =\n",
              "          await google.colab.kernel.invokeFunction('convertToInteractive',\n",
              "                                                    [key], {});\n",
              "        if (!dataTable) return;\n",
              "\n",
              "        const docLinkHtml = 'Like what you see? Visit the ' +\n",
              "          '<a target=\"_blank\" href=https://colab.research.google.com/notebooks/data_table.ipynb>data table notebook</a>'\n",
              "          + ' to learn more about interactive tables.';\n",
              "        element.innerHTML = '';\n",
              "        dataTable['output_type'] = 'display_data';\n",
              "        await google.colab.output.renderOutput(dataTable, element);\n",
              "        const docLink = document.createElement('div');\n",
              "        docLink.innerHTML = docLinkHtml;\n",
              "        element.appendChild(docLink);\n",
              "      }\n",
              "    </script>\n",
              "  </div>\n",
              "\n",
              "\n",
              "    <div id=\"df-0e64e87b-42d1-40b0-abd2-24409c92018e\">\n",
              "      <button class=\"colab-df-quickchart\" onclick=\"quickchart('df-0e64e87b-42d1-40b0-abd2-24409c92018e')\"\n",
              "                title=\"Suggest charts\"\n",
              "                style=\"display:none;\">\n",
              "\n",
              "<svg xmlns=\"http://www.w3.org/2000/svg\" height=\"24px\"viewBox=\"0 0 24 24\"\n",
              "     width=\"24px\">\n",
              "    <g>\n",
              "        <path d=\"M19 3H5c-1.1 0-2 .9-2 2v14c0 1.1.9 2 2 2h14c1.1 0 2-.9 2-2V5c0-1.1-.9-2-2-2zM9 17H7v-7h2v7zm4 0h-2V7h2v10zm4 0h-2v-4h2v4z\"/>\n",
              "    </g>\n",
              "</svg>\n",
              "      </button>\n",
              "\n",
              "<style>\n",
              "  .colab-df-quickchart {\n",
              "      --bg-color: #E8F0FE;\n",
              "      --fill-color: #1967D2;\n",
              "      --hover-bg-color: #E2EBFA;\n",
              "      --hover-fill-color: #174EA6;\n",
              "      --disabled-fill-color: #AAA;\n",
              "      --disabled-bg-color: #DDD;\n",
              "  }\n",
              "\n",
              "  [theme=dark] .colab-df-quickchart {\n",
              "      --bg-color: #3B4455;\n",
              "      --fill-color: #D2E3FC;\n",
              "      --hover-bg-color: #434B5C;\n",
              "      --hover-fill-color: #FFFFFF;\n",
              "      --disabled-bg-color: #3B4455;\n",
              "      --disabled-fill-color: #666;\n",
              "  }\n",
              "\n",
              "  .colab-df-quickchart {\n",
              "    background-color: var(--bg-color);\n",
              "    border: none;\n",
              "    border-radius: 50%;\n",
              "    cursor: pointer;\n",
              "    display: none;\n",
              "    fill: var(--fill-color);\n",
              "    height: 32px;\n",
              "    padding: 0;\n",
              "    width: 32px;\n",
              "  }\n",
              "\n",
              "  .colab-df-quickchart:hover {\n",
              "    background-color: var(--hover-bg-color);\n",
              "    box-shadow: 0 1px 2px rgba(60, 64, 67, 0.3), 0 1px 3px 1px rgba(60, 64, 67, 0.15);\n",
              "    fill: var(--button-hover-fill-color);\n",
              "  }\n",
              "\n",
              "  .colab-df-quickchart-complete:disabled,\n",
              "  .colab-df-quickchart-complete:disabled:hover {\n",
              "    background-color: var(--disabled-bg-color);\n",
              "    fill: var(--disabled-fill-color);\n",
              "    box-shadow: none;\n",
              "  }\n",
              "\n",
              "  .colab-df-spinner {\n",
              "    border: 2px solid var(--fill-color);\n",
              "    border-color: transparent;\n",
              "    border-bottom-color: var(--fill-color);\n",
              "    animation:\n",
              "      spin 1s steps(1) infinite;\n",
              "  }\n",
              "\n",
              "  @keyframes spin {\n",
              "    0% {\n",
              "      border-color: transparent;\n",
              "      border-bottom-color: var(--fill-color);\n",
              "      border-left-color: var(--fill-color);\n",
              "    }\n",
              "    20% {\n",
              "      border-color: transparent;\n",
              "      border-left-color: var(--fill-color);\n",
              "      border-top-color: var(--fill-color);\n",
              "    }\n",
              "    30% {\n",
              "      border-color: transparent;\n",
              "      border-left-color: var(--fill-color);\n",
              "      border-top-color: var(--fill-color);\n",
              "      border-right-color: var(--fill-color);\n",
              "    }\n",
              "    40% {\n",
              "      border-color: transparent;\n",
              "      border-right-color: var(--fill-color);\n",
              "      border-top-color: var(--fill-color);\n",
              "    }\n",
              "    60% {\n",
              "      border-color: transparent;\n",
              "      border-right-color: var(--fill-color);\n",
              "    }\n",
              "    80% {\n",
              "      border-color: transparent;\n",
              "      border-right-color: var(--fill-color);\n",
              "      border-bottom-color: var(--fill-color);\n",
              "    }\n",
              "    90% {\n",
              "      border-color: transparent;\n",
              "      border-bottom-color: var(--fill-color);\n",
              "    }\n",
              "  }\n",
              "</style>\n",
              "\n",
              "      <script>\n",
              "        async function quickchart(key) {\n",
              "          const quickchartButtonEl =\n",
              "            document.querySelector('#' + key + ' button');\n",
              "          quickchartButtonEl.disabled = true;  // To prevent multiple clicks.\n",
              "          quickchartButtonEl.classList.add('colab-df-spinner');\n",
              "          try {\n",
              "            const charts = await google.colab.kernel.invokeFunction(\n",
              "                'suggestCharts', [key], {});\n",
              "          } catch (error) {\n",
              "            console.error('Error during call to suggestCharts:', error);\n",
              "          }\n",
              "          quickchartButtonEl.classList.remove('colab-df-spinner');\n",
              "          quickchartButtonEl.classList.add('colab-df-quickchart-complete');\n",
              "        }\n",
              "        (() => {\n",
              "          let quickchartButtonEl =\n",
              "            document.querySelector('#df-0e64e87b-42d1-40b0-abd2-24409c92018e button');\n",
              "          quickchartButtonEl.style.display =\n",
              "            google.colab.kernel.accessAllowed ? 'block' : 'none';\n",
              "        })();\n",
              "      </script>\n",
              "    </div>\n",
              "\n",
              "    </div>\n",
              "  </div>\n"
            ],
            "application/vnd.google.colaboratory.intrinsic+json": {
              "type": "dataframe",
              "variable_name": "df",
              "summary": "{\n  \"name\": \"df\",\n  \"rows\": 500,\n  \"fields\": [\n    {\n      \"column\": \"coin\",\n      \"properties\": {\n        \"dtype\": \"string\",\n        \"num_unique_values\": 500,\n        \"samples\": [\n          \"NKN\",\n          \"Bitcoin SV\",\n          \"BENQI Liquid Staked AVAX\"\n        ],\n        \"semantic_type\": \"\",\n        \"description\": \"\"\n      }\n    },\n    {\n      \"column\": \"symbol\",\n      \"properties\": {\n        \"dtype\": \"string\",\n        \"num_unique_values\": 497,\n        \"samples\": [\n          \"DOCK\",\n          \"BSV\",\n          \"YGG\"\n        ],\n        \"semantic_type\": \"\",\n        \"description\": \"\"\n      }\n    },\n    {\n      \"column\": \"price\",\n      \"properties\": {\n        \"dtype\": \"number\",\n        \"std\": 4595.354933747034,\n        \"min\": 1.484e-09,\n        \"max\": 40909.07,\n        \"num_unique_values\": 468,\n        \"samples\": [\n          147.18,\n          39.16,\n          3.21\n        ],\n        \"semantic_type\": \"\",\n        \"description\": \"\"\n      }\n    },\n    {\n      \"column\": \"1h\",\n      \"properties\": {\n        \"dtype\": \"number\",\n        \"std\": 0.03312839025852127,\n        \"min\": -0.7040000000000001,\n        \"max\": 0.095,\n        \"num_unique_values\": 51,\n        \"samples\": [\n          -0.024,\n          -0.037,\n          -0.018\n        ],\n        \"semantic_type\": \"\",\n        \"description\": \"\"\n      }\n    },\n    {\n      \"column\": \"24h\",\n      \"properties\": {\n        \"dtype\": \"number\",\n        \"std\": 0.06014157454776513,\n        \"min\": -0.6459999999999999,\n        \"max\": 0.5770000000000001,\n        \"num_unique_values\": 148,\n        \"samples\": [\n          0.122,\n          0.005,\n          0.14\n        ],\n        \"semantic_type\": \"\",\n        \"description\": \"\"\n      }\n    },\n    {\n      \"column\": \"7d\",\n      \"properties\": {\n        \"dtype\": \"number\",\n        \"std\": 0.25254880584436556,\n        \"min\": -0.5579999999999999,\n        \"max\": 4.6080000000000005,\n        \"num_unique_values\": 228,\n        \"samples\": [\n          -0.212,\n          -0.06,\n          0.0559999999999999\n        ],\n        \"semantic_type\": \"\",\n        \"description\": \"\"\n      }\n    },\n    {\n      \"column\": \"24h_volume\",\n      \"properties\": {\n        \"dtype\": \"number\",\n        \"std\": 2285948206.3262563,\n        \"min\": 43.49,\n        \"max\": 44131404071.0,\n        \"num_unique_values\": 496,\n        \"samples\": [\n          5114354.0,\n          82946701.0,\n          32498566.0\n        ],\n        \"semantic_type\": \"\",\n        \"description\": \"\"\n      }\n    },\n    {\n      \"column\": \"mkt_cap\",\n      \"properties\": {\n        \"dtype\": \"number\",\n        \"std\": 38269053439.90947,\n        \"min\": 67318962.0,\n        \"max\": 776077432316.0,\n        \"num_unique_values\": 500,\n        \"samples\": [\n          124824929.0,\n          1484128146.0,\n          119637582.0\n        ],\n        \"semantic_type\": \"\",\n        \"description\": \"\"\n      }\n    },\n    {\n      \"column\": \"date\",\n      \"properties\": {\n        \"dtype\": \"object\",\n        \"num_unique_values\": 1,\n        \"samples\": [\n          \"2022-03-17\"\n        ],\n        \"semantic_type\": \"\",\n        \"description\": \"\"\n      }\n    }\n  ]\n}"
            }
          },
          "metadata": {},
          "execution_count": 9
        }
      ]
    },
    {
      "cell_type": "code",
      "source": [
        "# 📌 Step 4: Basic EDA\n",
        "import matplotlib.pyplot as plt\n",
        "import seaborn as sns"
      ],
      "metadata": {
        "id": "kelruHDe8FVe"
      },
      "execution_count": 10,
      "outputs": []
    },
    {
      "cell_type": "code",
      "source": [
        "# Replace with actual columns in your dataset\n",
        "numeric_cols = df.select_dtypes(include=['float64', 'int64']).columns\n",
        "df[numeric_cols].hist(figsize=(15, 10))\n",
        "plt.tight_layout()\n",
        "plt.show()\n"
      ],
      "metadata": {
        "colab": {
          "base_uri": "https://localhost:8080/",
          "height": 793
        },
        "id": "v7JLEf-c8KG3",
        "outputId": "ec965513-90ac-45b5-bf4b-221b0650a9f7"
      },
      "execution_count": 11,
      "outputs": [
        {
          "output_type": "display_data",
          "data": {
            "text/plain": [
              "<Figure size 1500x1000 with 6 Axes>"
            ],
            "image/png": "[encoded data removed]"
          },
          "metadata": {}
        }
      ]
    },
    {
      "cell_type": "code",
      "source": [
        "# 📌 Step 5: Data Cleaning\n",
        "# Fill or drop missing values\n",
        "df = df.dropna()  # OR df.fillna(method='ffill')"
      ],
      "metadata": {
        "id": "MRKEOo548Ndg"
      },
      "execution_count": 12,
      "outputs": []
    },
    {
      "cell_type": "code",
      "source": [
        "# 📌 Step 6: Feature Scaling\n",
        "from sklearn.preprocessing import StandardScaler"
      ],
      "metadata": {
        "id": "-tdGoXTl8Sal"
      },
      "execution_count": 13,
      "outputs": []
    },
    {
      "cell_type": "code",
      "source": [
        "\n",
        "scaler = StandardScaler()\n",
        "df_scaled = pd.DataFrame(scaler.fit_transform(df[numeric_cols]), columns=numeric_cols)\n"
      ],
      "metadata": {
        "id": "xKKxLiQa8VlW"
      },
      "execution_count": 14,
      "outputs": []
    },
    {
      "cell_type": "code",
      "source": [
        "# 📌 Step 7: Save Processed Data (Optional)\n",
        "df_scaled.to_csv(\"processed_crypto_data.csv\", index=False)\n",
        "print(\"✅ Data Preprocessing Done! Ready for modeling.\")"
      ],
      "metadata": {
        "colab": {
          "base_uri": "https://localhost:8080/"
        },
        "id": "muZphdvp8Ypa",
        "outputId": "8ddd8831-65e8-457d-dc49-b68c16314cb1"
      },
      "execution_count": 15,
      "outputs": [
        {
          "output_type": "stream",
          "name": "stdout",
          "text": [
            "✅ Data Preprocessing Done! Ready for modeling.\n"
          ]
        }
      ]
    },
    {
      "cell_type": "code",
      "source": [
        "# ✅ Set the correct target column\n",
        "target_column = '24h_volume'\n",
        "\n",
        "# ✅ Define features (exclude target column)\n",
        "feature_columns = ['price', '1h', '24h', '7d', 'mkt_cap']  # exclude 'coin', 'symbol', 'date'\n",
        "X = df[feature_columns]\n",
        "y = df[target_column]\n",
        "\n",
        "# ✅ Scale the features\n",
        "from sklearn.preprocessing import StandardScaler\n",
        "scaler = StandardScaler()\n",
        "X_scaled = pd.DataFrame(scaler.fit_transform(X), columns=feature_columns)\n",
        "\n",
        "# ✅ Train-Test Split\n",
        "from sklearn.model_selection import train_test_split\n",
        "X_train, X_test, y_train, y_test = train_test_split(X_scaled, y, test_size=0.2, random_state=42)\n",
        "\n",
        "# ✅ Train Model\n",
        "from sklearn.linear_model import LinearRegression\n",
        "model = LinearRegression()\n",
        "model.fit(X_train, y_train)\n",
        "y_pred = model.predict(X_test)\n",
        "\n",
        "# ✅ Evaluate the model\n",
        "from sklearn.metrics import mean_squared_error, mean_absolute_error, r2_score\n",
        "print(\"\\n📊 Model Evaluation:\")\n",
        "import numpy as np\n",
        "print(\"RMSE:\", np.sqrt(mean_squared_error(y_test, y_pred)))\n",
        "from sklearn.metrics import mean_squared_error, mean_absolute_error, r2_score\n",
        "import numpy as np\n",
        "\n",
        "print(\"\\n📊 Model Evaluation:\")\n",
        "print(\"RMSE:\", np.sqrt(mean_squared_error(y_test, y_pred)))\n",
        "print(\"MAE:\", mean_absolute_error(y_test, y_pred))\n",
        "print(\"R² Score:\", r2_score(y_test, y_pred))\n",
        "\n"
      ],
      "metadata": {
        "colab": {
          "base_uri": "https://localhost:8080/"
        },
        "id": "p8_Doww--rgq",
        "outputId": "3e5ea651-c7ba-49c8-9dad-8fda85c9f74d"
      },
      "execution_count": 29,
      "outputs": [
        {
          "output_type": "stream",
          "name": "stdout",
          "text": [
            "\n",
            "📊 Model Evaluation:\n",
            "RMSE: 4265376168.399945\n",
            "\n",
            "📊 Model Evaluation:\n",
            "RMSE: 4265376168.399945\n",
            "MAE: 603181132.5369513\n",
            "R² Score: 0.22659392373493137\n"
          ]
        }
      ]
    },
    {
      "cell_type": "code",
      "source": [
        "from sklearn.ensemble import RandomForestRegressor\n",
        "\n",
        "# Initialize and train the model\n",
        "rf_model = RandomForestRegressor(n_estimators=100, random_state=42)\n",
        "rf_model.fit(X_train, y_train)\n",
        "\n",
        "# Predict\n",
        "rf_pred = rf_model.predict(X_test)\n",
        "\n",
        "# Evaluate\n",
        "print(\"\\n🌳 Random Forest Evaluation:\")\n",
        "print(\"RMSE:\", np.sqrt(mean_squared_error(y_test, rf_pred)))\n",
        "print(\"MAE:\", mean_absolute_error(y_test, rf_pred))\n",
        "print(\"R² Score:\", r2_score(y_test, rf_pred))\n"
      ],
      "metadata": {
        "colab": {
          "base_uri": "https://localhost:8080/"
        },
        "id": "sffgm0iO_Gip",
        "outputId": "62c790c8-e78f-4b63-c2ff-ea7d75b3d962"
      },
      "execution_count": 30,
      "outputs": [
        {
          "output_type": "stream",
          "name": "stdout",
          "text": [
            "\n",
            "🌳 Random Forest Evaluation:\n",
            "RMSE: 4308787025.796472\n",
            "MAE: 627447182.179514\n",
            "R² Score: 0.2107711356210915\n"
          ]
        }
      ]
    },
    {
      "cell_type": "code",
      "source": [
        "import numpy as np\n",
        "y_log = np.log1p(y)  # log(1 + x) to handle 0s\n",
        "\n",
        "# Then re-train with y_log and inverse later with np.expm1()\n"
      ],
      "metadata": {
        "id": "KbDO7qwI_wOW"
      },
      "execution_count": 31,
      "outputs": []
    },
    {
      "cell_type": "code",
      "source": [
        "import matplotlib.pyplot as plt\n",
        "\n",
        "importances = rf_model.feature_importances_\n",
        "feat_names = X.columns\n",
        "\n",
        "plt.figure(figsize=(8, 5))\n",
        "plt.barh(feat_names, importances)\n",
        "plt.xlabel(\"Feature Importance\")\n",
        "plt.title(\"Random Forest Feature Importance\")\n",
        "plt.show()\n"
      ],
      "metadata": {
        "colab": {
          "base_uri": "https://localhost:8080/",
          "height": 487
        },
        "id": "DsbkfyiE_8DB",
        "outputId": "181456fb-f36a-494c-c14a-171254a504ca"
      },
      "execution_count": 32,
      "outputs": [
        {
          "output_type": "display_data",
          "data": {
            "text/plain": [
              "<Figure size 800x500 with 1 Axes>"
            ],
            "image/png": "[encoded data removed]"
          },
          "metadata": {}
        }
      ]
    },
    {
      "cell_type": "code",
      "source": [
        "import numpy as np\n",
        "\n",
        "# ✅ Log-transform the target variable\n",
        "y_log = np.log1p(y)  # log(1 + y), safe for zeros\n",
        "\n",
        "# ✅ Train-test split again using y_log\n",
        "X_train, X_test, y_train_log, y_test_log = train_test_split(X_scaled, y_log, test_size=0.2, random_state=42)\n",
        "\n",
        "# ✅ Train Random Forest again\n",
        "from sklearn.ensemble import RandomForestRegressor\n",
        "rf_model_log = RandomForestRegressor(n_estimators=100, random_state=42)\n",
        "rf_model_log.fit(X_train, y_train_log)\n",
        "\n",
        "# ✅ Predict on test set (log scale)\n",
        "y_pred_log = rf_model_log.predict(X_test)\n",
        "\n",
        "# ✅ Convert back from log scale to original volume scale\n",
        "y_test_actual = np.expm1(y_test_log)\n",
        "y_pred_actual = np.expm1(y_pred_log)\n",
        "\n",
        "# ✅ Evaluate\n",
        "from sklearn.metrics import mean_squared_error, mean_absolute_error, r2_score\n",
        "print(\"\\n🔁 Random Forest with Log-Transformed Target:\")\n",
        "print(\"RMSE:\", np.sqrt(mean_squared_error(y_test_actual, y_pred_actual)))\n",
        "print(\"MAE:\", mean_absolute_error(y_test_actual, y_pred_actual))\n",
        "print(\"R² Score:\", r2_score(y_test_actual, y_pred_actual))\n"
      ],
      "metadata": {
        "colab": {
          "base_uri": "https://localhost:8080/"
        },
        "id": "ogPNdgZP__Ld",
        "outputId": "3ef6e037-f680-4d92-e6e2-4959e4a198aa"
      },
      "execution_count": 33,
      "outputs": [
        {
          "output_type": "stream",
          "name": "stdout",
          "text": [
            "\n",
            "🔁 Random Forest with Log-Transformed Target:\n",
            "RMSE: 4600308446.733735\n",
            "MAE: 680969491.709062\n",
            "R² Score: 0.1003640391771009\n"
          ]
        }
      ]
    },
    {
      "cell_type": "code",
      "source": [
        "import matplotlib.pyplot as plt\n",
        "\n",
        "importances = rf_model_log.feature_importances_\n",
        "feat_names = X.columns\n",
        "\n",
        "plt.figure(figsize=(8, 5))\n",
        "plt.barh(feat_names, importances)\n",
        "plt.xlabel(\"Importance\")\n",
        "plt.title(\" Feature Importance (Random Forest)\")\n",
        "plt.show()\n"
      ],
      "metadata": {
        "colab": {
          "base_uri": "https://localhost:8080/",
          "height": 487
        },
        "id": "tmfVWw5VALpZ",
        "outputId": "cec66c42-0fcc-4d26-af7c-4d1f2c0fa3f9"
      },
      "execution_count": 35,
      "outputs": [
        {
          "output_type": "display_data",
          "data": {
            "text/plain": [
              "<Figure size 800x500 with 1 Axes>"
            ],
            "image/png": "[encoded data removed]"
          },
          "metadata": {}
        }
      ]
    },
    {
      "cell_type": "code",
      "source": [
        "# ✅ Use only strong features\n",
        "feature_columns = ['price', '24h', 'mkt_cap']\n",
        "\n",
        "# Recreate X and scale again\n",
        "X = df[feature_columns]\n",
        "scaler = StandardScaler()\n",
        "X_scaled = pd.DataFrame(scaler.fit_transform(X), columns=feature_columns)\n",
        "\n",
        "# Use previous log-transformed target\n",
        "y_log = np.log1p(y)\n",
        "\n",
        "# Train-test split again\n",
        "from sklearn.model_selection import train_test_split\n",
        "X_train, X_test, y_train_log, y_test_log = train_test_split(X_scaled, y_log, test_size=0.2, random_state=42)\n",
        "\n",
        "# Retrain model\n",
        "from sklearn.ensemble import RandomForestRegressor\n",
        "rf_model_refined = RandomForestRegressor(n_estimators=100, random_state=42)\n",
        "rf_model_refined.fit(X_train, y_train_log)\n",
        "\n",
        "# Predict and revert log scale\n",
        "y_pred_log = rf_model_refined.predict(X_test)\n",
        "y_test_actual = np.expm1(y_test_log)\n",
        "y_pred_actual = np.expm1(y_pred_log)\n",
        "\n",
        "# Evaluate\n",
        "from sklearn.metrics import mean_squared_error, mean_absolute_error, r2_score\n",
        "import numpy as np\n",
        "\n",
        "print(\"\\n🎯 Refined Model After Removing Weak Features:\")\n",
        "print(\"RMSE:\", np.sqrt(mean_squared_error(y_test_actual, y_pred_actual)))\n",
        "print(\"MAE:\", mean_absolute_error(y_test_actual, y_pred_actual))\n",
        "print(\"R² Score:\", r2_score(y_test_actual, y_pred_actual))\n"
      ],
      "metadata": {
        "colab": {
          "base_uri": "https://localhost:8080/"
        },
        "id": "huUybEkzAUto",
        "outputId": "081567b3-2c84-4770-e73d-75e86f0286e4"
      },
      "execution_count": 36,
      "outputs": [
        {
          "output_type": "stream",
          "name": "stdout",
          "text": [
            "\n",
            "🎯 Refined Model After Removing Weak Features:\n",
            "RMSE: 4551265731.141123\n",
            "MAE: 676186887.4796959\n",
            "R² Score: 0.119443373481531\n"
          ]
        }
      ]
    },
    {
      "cell_type": "code",
      "source": [
        "import pickle\n",
        "\n",
        "# Save model\n",
        "with open('rf_model.pkl', 'wb') as f:\n",
        "    pickle.dump(rf_model_refined, f)\n",
        "\n",
        "# Save scaler\n",
        "with open('scaler.pkl', 'wb') as f:\n",
        "    pickle.dump(scaler, f)\n"
      ],
      "metadata": {
        "id": "rXkZsd1wAwOt"
      },
      "execution_count": 38,
      "outputs": []
    }
  ]
}